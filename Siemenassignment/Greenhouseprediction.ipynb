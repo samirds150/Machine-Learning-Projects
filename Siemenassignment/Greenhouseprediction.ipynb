{
 "cells": [
  {
   "cell_type": "markdown",
   "id": "99b1b38c",
   "metadata": {},
   "source": [
    "# Problem Statement :\n",
    "    The plants in Greenhouse are enclosed inside a building with glasses and\n",
    "    have regulated climatic conditions. We to monitor whether the \n",
    "    greenhouse has suitable environmental conditions for the growth of plants \n",
    "    based on given parameters\n",
    "     The task is to predict if these conditions are suitable for the growth of the \n",
    "    plants in the greenhouse from the readings that we obtain every from \n",
    "    the greenhouse"
   ]
  },
  {
   "cell_type": "markdown",
   "id": "53f08453",
   "metadata": {},
   "source": [
    "Importing all necessary libraries"
   ]
  },
  {
   "cell_type": "code",
   "execution_count": 1,
   "id": "c51ce722",
   "metadata": {},
   "outputs": [],
   "source": [
    "import pandas as pd\n",
    "from sklearn.model_selection import train_test_split\n",
    "from sklearn.linear_model import LogisticRegression\n",
    "from sklearn.metrics import confusion_matrix\n",
    "import seaborn as sns\n",
    "from sklearn.metrics import f1_score"
   ]
  },
  {
   "cell_type": "code",
   "execution_count": 2,
   "id": "c983955e",
   "metadata": {},
   "outputs": [],
   "source": [
    "#uploading training data set\n",
    "train_data = pd.read_csv(\"D:\\\\IGT\\data\\\\Siemenassignment\\\\train.csv\")"
   ]
  },
  {
   "cell_type": "code",
   "execution_count": 3,
   "id": "3ec64b8a",
   "metadata": {},
   "outputs": [
    {
     "data": {
      "text/html": [
       "<div>\n",
       "<style scoped>\n",
       "    .dataframe tbody tr th:only-of-type {\n",
       "        vertical-align: middle;\n",
       "    }\n",
       "\n",
       "    .dataframe tbody tr th {\n",
       "        vertical-align: top;\n",
       "    }\n",
       "\n",
       "    .dataframe thead th {\n",
       "        text-align: right;\n",
       "    }\n",
       "</style>\n",
       "<table border=\"1\" class=\"dataframe\">\n",
       "  <thead>\n",
       "    <tr style=\"text-align: right;\">\n",
       "      <th></th>\n",
       "      <th>date_time</th>\n",
       "      <th>temp</th>\n",
       "      <th>humidity</th>\n",
       "      <th>light</th>\n",
       "      <th>co2</th>\n",
       "      <th>humidity_ratio</th>\n",
       "      <th>suitable</th>\n",
       "    </tr>\n",
       "  </thead>\n",
       "  <tbody>\n",
       "    <tr>\n",
       "      <th>0</th>\n",
       "      <td>2015-02-02 14:19:00</td>\n",
       "      <td>23.7000</td>\n",
       "      <td>26.272</td>\n",
       "      <td>585.200000</td>\n",
       "      <td>749.200000</td>\n",
       "      <td>0.004764</td>\n",
       "      <td>1</td>\n",
       "    </tr>\n",
       "    <tr>\n",
       "      <th>1</th>\n",
       "      <td>2015-02-02 14:19:59</td>\n",
       "      <td>23.7180</td>\n",
       "      <td>26.290</td>\n",
       "      <td>578.400000</td>\n",
       "      <td>760.400000</td>\n",
       "      <td>0.004773</td>\n",
       "      <td>1</td>\n",
       "    </tr>\n",
       "    <tr>\n",
       "      <th>2</th>\n",
       "      <td>2015-02-02 14:21:00</td>\n",
       "      <td>23.7300</td>\n",
       "      <td>26.230</td>\n",
       "      <td>572.666667</td>\n",
       "      <td>769.666667</td>\n",
       "      <td>0.004765</td>\n",
       "      <td>1</td>\n",
       "    </tr>\n",
       "    <tr>\n",
       "      <th>3</th>\n",
       "      <td>2015-02-02 14:22:00</td>\n",
       "      <td>23.7225</td>\n",
       "      <td>26.125</td>\n",
       "      <td>493.750000</td>\n",
       "      <td>774.750000</td>\n",
       "      <td>0.004744</td>\n",
       "      <td>1</td>\n",
       "    </tr>\n",
       "    <tr>\n",
       "      <th>4</th>\n",
       "      <td>2015-02-02 14:23:00</td>\n",
       "      <td>23.7540</td>\n",
       "      <td>26.200</td>\n",
       "      <td>488.600000</td>\n",
       "      <td>779.000000</td>\n",
       "      <td>0.004767</td>\n",
       "      <td>1</td>\n",
       "    </tr>\n",
       "  </tbody>\n",
       "</table>\n",
       "</div>"
      ],
      "text/plain": [
       "             date_time     temp  humidity       light         co2  \\\n",
       "0  2015-02-02 14:19:00  23.7000    26.272  585.200000  749.200000   \n",
       "1  2015-02-02 14:19:59  23.7180    26.290  578.400000  760.400000   \n",
       "2  2015-02-02 14:21:00  23.7300    26.230  572.666667  769.666667   \n",
       "3  2015-02-02 14:22:00  23.7225    26.125  493.750000  774.750000   \n",
       "4  2015-02-02 14:23:00  23.7540    26.200  488.600000  779.000000   \n",
       "\n",
       "   humidity_ratio  suitable  \n",
       "0        0.004764         1  \n",
       "1        0.004773         1  \n",
       "2        0.004765         1  \n",
       "3        0.004744         1  \n",
       "4        0.004767         1  "
      ]
     },
     "execution_count": 3,
     "metadata": {},
     "output_type": "execute_result"
    }
   ],
   "source": [
    "train_data.head()"
   ]
  },
  {
   "cell_type": "code",
   "execution_count": 4,
   "id": "76eeda14",
   "metadata": {},
   "outputs": [
    {
     "data": {
      "text/html": [
       "<div>\n",
       "<style scoped>\n",
       "    .dataframe tbody tr th:only-of-type {\n",
       "        vertical-align: middle;\n",
       "    }\n",
       "\n",
       "    .dataframe tbody tr th {\n",
       "        vertical-align: top;\n",
       "    }\n",
       "\n",
       "    .dataframe thead th {\n",
       "        text-align: right;\n",
       "    }\n",
       "</style>\n",
       "<table border=\"1\" class=\"dataframe\">\n",
       "  <thead>\n",
       "    <tr style=\"text-align: right;\">\n",
       "      <th></th>\n",
       "      <th>temp</th>\n",
       "      <th>humidity</th>\n",
       "      <th>light</th>\n",
       "      <th>co2</th>\n",
       "      <th>humidity_ratio</th>\n",
       "      <th>suitable</th>\n",
       "    </tr>\n",
       "  </thead>\n",
       "  <tbody>\n",
       "    <tr>\n",
       "      <th>count</th>\n",
       "      <td>15080.000000</td>\n",
       "      <td>15080.000000</td>\n",
       "      <td>15080.000000</td>\n",
       "      <td>15080.000000</td>\n",
       "      <td>15080.000000</td>\n",
       "      <td>15080.000000</td>\n",
       "    </tr>\n",
       "    <tr>\n",
       "      <th>mean</th>\n",
       "      <td>20.948475</td>\n",
       "      <td>26.520671</td>\n",
       "      <td>139.891070</td>\n",
       "      <td>621.148233</td>\n",
       "      <td>0.004066</td>\n",
       "      <td>0.242241</td>\n",
       "    </tr>\n",
       "    <tr>\n",
       "      <th>std</th>\n",
       "      <td>1.145097</td>\n",
       "      <td>5.064903</td>\n",
       "      <td>219.841563</td>\n",
       "      <td>272.904169</td>\n",
       "      <td>0.000789</td>\n",
       "      <td>0.428454</td>\n",
       "    </tr>\n",
       "    <tr>\n",
       "      <th>min</th>\n",
       "      <td>19.000000</td>\n",
       "      <td>16.745000</td>\n",
       "      <td>0.000000</td>\n",
       "      <td>412.750000</td>\n",
       "      <td>0.002674</td>\n",
       "      <td>0.000000</td>\n",
       "    </tr>\n",
       "    <tr>\n",
       "      <th>25%</th>\n",
       "      <td>20.200000</td>\n",
       "      <td>22.790000</td>\n",
       "      <td>0.000000</td>\n",
       "      <td>447.000000</td>\n",
       "      <td>0.003508</td>\n",
       "      <td>0.000000</td>\n",
       "    </tr>\n",
       "    <tr>\n",
       "      <th>50%</th>\n",
       "      <td>20.730000</td>\n",
       "      <td>26.100000</td>\n",
       "      <td>0.000000</td>\n",
       "      <td>507.000000</td>\n",
       "      <td>0.003991</td>\n",
       "      <td>0.000000</td>\n",
       "    </tr>\n",
       "    <tr>\n",
       "      <th>75%</th>\n",
       "      <td>21.675000</td>\n",
       "      <td>30.125000</td>\n",
       "      <td>399.500000</td>\n",
       "      <td>664.250000</td>\n",
       "      <td>0.004615</td>\n",
       "      <td>0.000000</td>\n",
       "    </tr>\n",
       "    <tr>\n",
       "      <th>max</th>\n",
       "      <td>24.408333</td>\n",
       "      <td>39.500000</td>\n",
       "      <td>1697.250000</td>\n",
       "      <td>2028.500000</td>\n",
       "      <td>0.006476</td>\n",
       "      <td>1.000000</td>\n",
       "    </tr>\n",
       "  </tbody>\n",
       "</table>\n",
       "</div>"
      ],
      "text/plain": [
       "               temp      humidity         light           co2  humidity_ratio  \\\n",
       "count  15080.000000  15080.000000  15080.000000  15080.000000    15080.000000   \n",
       "mean      20.948475     26.520671    139.891070    621.148233        0.004066   \n",
       "std        1.145097      5.064903    219.841563    272.904169        0.000789   \n",
       "min       19.000000     16.745000      0.000000    412.750000        0.002674   \n",
       "25%       20.200000     22.790000      0.000000    447.000000        0.003508   \n",
       "50%       20.730000     26.100000      0.000000    507.000000        0.003991   \n",
       "75%       21.675000     30.125000    399.500000    664.250000        0.004615   \n",
       "max       24.408333     39.500000   1697.250000   2028.500000        0.006476   \n",
       "\n",
       "           suitable  \n",
       "count  15080.000000  \n",
       "mean       0.242241  \n",
       "std        0.428454  \n",
       "min        0.000000  \n",
       "25%        0.000000  \n",
       "50%        0.000000  \n",
       "75%        0.000000  \n",
       "max        1.000000  "
      ]
     },
     "execution_count": 4,
     "metadata": {},
     "output_type": "execute_result"
    }
   ],
   "source": [
    "train_data.describe()"
   ]
  },
  {
   "cell_type": "code",
   "execution_count": 5,
   "id": "fffff76e",
   "metadata": {},
   "outputs": [
    {
     "name": "stdout",
     "output_type": "stream",
     "text": [
      "<class 'pandas.core.frame.DataFrame'>\n",
      "RangeIndex: 15080 entries, 0 to 15079\n",
      "Data columns (total 7 columns):\n",
      " #   Column          Non-Null Count  Dtype  \n",
      "---  ------          --------------  -----  \n",
      " 0   date_time       15080 non-null  object \n",
      " 1   temp            15080 non-null  float64\n",
      " 2   humidity        15080 non-null  float64\n",
      " 3   light           15080 non-null  float64\n",
      " 4   co2             15080 non-null  float64\n",
      " 5   humidity_ratio  15080 non-null  float64\n",
      " 6   suitable        15080 non-null  int64  \n",
      "dtypes: float64(5), int64(1), object(1)\n",
      "memory usage: 824.8+ KB\n"
     ]
    }
   ],
   "source": [
    "train_data.info()"
   ]
  },
  {
   "cell_type": "code",
   "execution_count": 6,
   "id": "604a5bee",
   "metadata": {},
   "outputs": [
    {
     "data": {
      "text/plain": [
       "date_time         0\n",
       "temp              0\n",
       "humidity          0\n",
       "light             0\n",
       "co2               0\n",
       "humidity_ratio    0\n",
       "suitable          0\n",
       "dtype: int64"
      ]
     },
     "execution_count": 6,
     "metadata": {},
     "output_type": "execute_result"
    }
   ],
   "source": [
    "# checking if there are any null or missing values\n",
    "train_data.isnull().sum()"
   ]
  },
  {
   "cell_type": "code",
   "execution_count": 7,
   "id": "7af5d197",
   "metadata": {},
   "outputs": [
    {
     "data": {
      "text/plain": [
       "array([1, 0], dtype=int64)"
      ]
     },
     "execution_count": 7,
     "metadata": {},
     "output_type": "execute_result"
    }
   ],
   "source": [
    "#checking the output variable\n",
    "train_data.suitable.unique()"
   ]
  },
  {
   "cell_type": "code",
   "execution_count": 8,
   "id": "bf9a1537",
   "metadata": {},
   "outputs": [],
   "source": [
    "final_data = train_data.drop(['date_time'],axis = 1)"
   ]
  },
  {
   "cell_type": "code",
   "execution_count": 9,
   "id": "f0f7c707",
   "metadata": {},
   "outputs": [
    {
     "data": {
      "text/html": [
       "<div>\n",
       "<style scoped>\n",
       "    .dataframe tbody tr th:only-of-type {\n",
       "        vertical-align: middle;\n",
       "    }\n",
       "\n",
       "    .dataframe tbody tr th {\n",
       "        vertical-align: top;\n",
       "    }\n",
       "\n",
       "    .dataframe thead th {\n",
       "        text-align: right;\n",
       "    }\n",
       "</style>\n",
       "<table border=\"1\" class=\"dataframe\">\n",
       "  <thead>\n",
       "    <tr style=\"text-align: right;\">\n",
       "      <th></th>\n",
       "      <th>temp</th>\n",
       "      <th>humidity</th>\n",
       "      <th>light</th>\n",
       "      <th>co2</th>\n",
       "      <th>humidity_ratio</th>\n",
       "      <th>suitable</th>\n",
       "    </tr>\n",
       "  </thead>\n",
       "  <tbody>\n",
       "    <tr>\n",
       "      <th>0</th>\n",
       "      <td>23.7000</td>\n",
       "      <td>26.272</td>\n",
       "      <td>585.200000</td>\n",
       "      <td>749.200000</td>\n",
       "      <td>0.004764</td>\n",
       "      <td>1</td>\n",
       "    </tr>\n",
       "    <tr>\n",
       "      <th>1</th>\n",
       "      <td>23.7180</td>\n",
       "      <td>26.290</td>\n",
       "      <td>578.400000</td>\n",
       "      <td>760.400000</td>\n",
       "      <td>0.004773</td>\n",
       "      <td>1</td>\n",
       "    </tr>\n",
       "    <tr>\n",
       "      <th>2</th>\n",
       "      <td>23.7300</td>\n",
       "      <td>26.230</td>\n",
       "      <td>572.666667</td>\n",
       "      <td>769.666667</td>\n",
       "      <td>0.004765</td>\n",
       "      <td>1</td>\n",
       "    </tr>\n",
       "    <tr>\n",
       "      <th>3</th>\n",
       "      <td>23.7225</td>\n",
       "      <td>26.125</td>\n",
       "      <td>493.750000</td>\n",
       "      <td>774.750000</td>\n",
       "      <td>0.004744</td>\n",
       "      <td>1</td>\n",
       "    </tr>\n",
       "    <tr>\n",
       "      <th>4</th>\n",
       "      <td>23.7540</td>\n",
       "      <td>26.200</td>\n",
       "      <td>488.600000</td>\n",
       "      <td>779.000000</td>\n",
       "      <td>0.004767</td>\n",
       "      <td>1</td>\n",
       "    </tr>\n",
       "  </tbody>\n",
       "</table>\n",
       "</div>"
      ],
      "text/plain": [
       "      temp  humidity       light         co2  humidity_ratio  suitable\n",
       "0  23.7000    26.272  585.200000  749.200000        0.004764         1\n",
       "1  23.7180    26.290  578.400000  760.400000        0.004773         1\n",
       "2  23.7300    26.230  572.666667  769.666667        0.004765         1\n",
       "3  23.7225    26.125  493.750000  774.750000        0.004744         1\n",
       "4  23.7540    26.200  488.600000  779.000000        0.004767         1"
      ]
     },
     "execution_count": 9,
     "metadata": {},
     "output_type": "execute_result"
    }
   ],
   "source": [
    "final_data.head()"
   ]
  },
  {
   "cell_type": "code",
   "execution_count": 10,
   "id": "150e1f36",
   "metadata": {},
   "outputs": [],
   "source": [
    "X = final_data.drop(['suitable'], axis = 1)"
   ]
  },
  {
   "cell_type": "code",
   "execution_count": 11,
   "id": "a57abece",
   "metadata": {},
   "outputs": [],
   "source": [
    "y = final_data.suitable"
   ]
  },
  {
   "cell_type": "code",
   "execution_count": 12,
   "id": "b8462e8c",
   "metadata": {},
   "outputs": [],
   "source": [
    "#splitting data in training and testing set\n",
    "X_train, X_test, y_train, y_test = train_test_split(X, y, test_size=0.33, random_state=42)"
   ]
  },
  {
   "cell_type": "code",
   "execution_count": 13,
   "id": "5ace9ae7",
   "metadata": {},
   "outputs": [],
   "source": [
    "#creating a model\n",
    "model = LogisticRegression()"
   ]
  },
  {
   "cell_type": "code",
   "execution_count": 14,
   "id": "2edd5335",
   "metadata": {},
   "outputs": [
    {
     "data": {
      "text/plain": [
       "LogisticRegression()"
      ]
     },
     "execution_count": 14,
     "metadata": {},
     "output_type": "execute_result"
    }
   ],
   "source": [
    "#training model with the training data set\n",
    "model.fit(X_train, y_train)"
   ]
  },
  {
   "cell_type": "code",
   "execution_count": 15,
   "id": "c8976327",
   "metadata": {},
   "outputs": [
    {
     "data": {
      "text/plain": [
       "0.988949166164356"
      ]
     },
     "execution_count": 15,
     "metadata": {},
     "output_type": "execute_result"
    }
   ],
   "source": [
    "#checking the accuracy of the trained model\n",
    "model.score(X_test, y_test)"
   ]
  },
  {
   "cell_type": "code",
   "execution_count": 16,
   "id": "fa99d581",
   "metadata": {},
   "outputs": [],
   "source": [
    "y_predicted = model.predict(X_test)"
   ]
  },
  {
   "cell_type": "code",
   "execution_count": 17,
   "id": "884a19cd",
   "metadata": {},
   "outputs": [
    {
     "data": {
      "text/plain": [
       "5404     1\n",
       "3613     1\n",
       "7634     0\n",
       "9942     0\n",
       "5221     1\n",
       "        ..\n",
       "1156     1\n",
       "12461    0\n",
       "32       1\n",
       "12770    0\n",
       "11696    0\n",
       "Name: suitable, Length: 4977, dtype: int64"
      ]
     },
     "execution_count": 17,
     "metadata": {},
     "output_type": "execute_result"
    }
   ],
   "source": [
    "y_test"
   ]
  },
  {
   "cell_type": "code",
   "execution_count": 18,
   "id": "13d675d5",
   "metadata": {},
   "outputs": [
    {
     "data": {
      "text/plain": [
       "<AxesSubplot:>"
      ]
     },
     "execution_count": 18,
     "metadata": {},
     "output_type": "execute_result"
    },
    {
     "data": {
      "image/png": "[encoded data removed]",
      "text/plain": [
       "<Figure size 432x288 with 2 Axes>"
      ]
     },
     "metadata": {
      "needs_background": "light"
     },
     "output_type": "display_data"
    }
   ],
   "source": [
    "# Evaluating the prediction by using confusion matrix\n",
    "\n",
    "comparison = confusion_matrix(y_test, y_predicted)\n",
    "sns.heatmap(comparison, annot = True, fmt= 'd')\n"
   ]
  },
  {
   "cell_type": "code",
   "execution_count": 19,
   "id": "02057e4f",
   "metadata": {
    "scrolled": true
   },
   "outputs": [
    {
     "data": {
      "text/plain": [
       "0.9890107013265115"
      ]
     },
     "execution_count": 19,
     "metadata": {},
     "output_type": "execute_result"
    }
   ],
   "source": [
    "#calcuating F1 score\n",
    "f1 = f1_score(y_test, y_predicted, average= 'weighted')\n",
    "f1"
   ]
  },
  {
   "cell_type": "code",
   "execution_count": 20,
   "id": "7eaeb75f",
   "metadata": {},
   "outputs": [
    {
     "data": {
      "text/plain": [
       "98.90107013265114"
      ]
     },
     "execution_count": 20,
     "metadata": {},
     "output_type": "execute_result"
    }
   ],
   "source": [
    "score = 100 * f1\n",
    "score"
   ]
  },
  {
   "cell_type": "code",
   "execution_count": 21,
   "id": "0ff9ab11",
   "metadata": {},
   "outputs": [],
   "source": [
    "#uploading the testing data for prediction\n",
    "test_data = pd.read_csv(\"D:\\\\IGT\\data\\\\Siemenassignment\\\\test.csv\")"
   ]
  },
  {
   "cell_type": "code",
   "execution_count": 22,
   "id": "26ddf4ac",
   "metadata": {
    "scrolled": true
   },
   "outputs": [
    {
     "data": {
      "text/html": [
       "<div>\n",
       "<style scoped>\n",
       "    .dataframe tbody tr th:only-of-type {\n",
       "        vertical-align: middle;\n",
       "    }\n",
       "\n",
       "    .dataframe tbody tr th {\n",
       "        vertical-align: top;\n",
       "    }\n",
       "\n",
       "    .dataframe thead th {\n",
       "        text-align: right;\n",
       "    }\n",
       "</style>\n",
       "<table border=\"1\" class=\"dataframe\">\n",
       "  <thead>\n",
       "    <tr style=\"text-align: right;\">\n",
       "      <th></th>\n",
       "      <th>date_time</th>\n",
       "      <th>temp</th>\n",
       "      <th>humidity</th>\n",
       "      <th>light</th>\n",
       "      <th>co2</th>\n",
       "      <th>humidity_ratio</th>\n",
       "    </tr>\n",
       "  </thead>\n",
       "  <tbody>\n",
       "    <tr>\n",
       "      <th>0</th>\n",
       "      <td>2015-02-14 13:59:59</td>\n",
       "      <td>20.390000</td>\n",
       "      <td>35.433333</td>\n",
       "      <td>31.000000</td>\n",
       "      <td>502.333333</td>\n",
       "      <td>0.005255</td>\n",
       "    </tr>\n",
       "    <tr>\n",
       "      <th>1</th>\n",
       "      <td>2015-02-14 14:00:59</td>\n",
       "      <td>20.365000</td>\n",
       "      <td>35.425000</td>\n",
       "      <td>31.000000</td>\n",
       "      <td>503.250000</td>\n",
       "      <td>0.005246</td>\n",
       "    </tr>\n",
       "    <tr>\n",
       "      <th>2</th>\n",
       "      <td>2015-02-14 14:02:00</td>\n",
       "      <td>20.390000</td>\n",
       "      <td>35.500000</td>\n",
       "      <td>31.000000</td>\n",
       "      <td>508.500000</td>\n",
       "      <td>0.005265</td>\n",
       "    </tr>\n",
       "    <tr>\n",
       "      <th>3</th>\n",
       "      <td>2015-02-14 14:03:00</td>\n",
       "      <td>20.323333</td>\n",
       "      <td>35.500000</td>\n",
       "      <td>31.000000</td>\n",
       "      <td>510.666667</td>\n",
       "      <td>0.005243</td>\n",
       "    </tr>\n",
       "    <tr>\n",
       "      <th>4</th>\n",
       "      <td>2015-02-14 14:04:00</td>\n",
       "      <td>20.290000</td>\n",
       "      <td>35.590000</td>\n",
       "      <td>28.666667</td>\n",
       "      <td>509.000000</td>\n",
       "      <td>0.005246</td>\n",
       "    </tr>\n",
       "  </tbody>\n",
       "</table>\n",
       "</div>"
      ],
      "text/plain": [
       "             date_time       temp   humidity      light         co2  \\\n",
       "0  2015-02-14 13:59:59  20.390000  35.433333  31.000000  502.333333   \n",
       "1  2015-02-14 14:00:59  20.365000  35.425000  31.000000  503.250000   \n",
       "2  2015-02-14 14:02:00  20.390000  35.500000  31.000000  508.500000   \n",
       "3  2015-02-14 14:03:00  20.323333  35.500000  31.000000  510.666667   \n",
       "4  2015-02-14 14:04:00  20.290000  35.590000  28.666667  509.000000   \n",
       "\n",
       "   humidity_ratio  \n",
       "0        0.005255  \n",
       "1        0.005246  \n",
       "2        0.005265  \n",
       "3        0.005243  \n",
       "4        0.005246  "
      ]
     },
     "execution_count": 22,
     "metadata": {},
     "output_type": "execute_result"
    }
   ],
   "source": [
    "test_data.head()"
   ]
  },
  {
   "cell_type": "code",
   "execution_count": 23,
   "id": "697e661b",
   "metadata": {
    "scrolled": true
   },
   "outputs": [
    {
     "data": {
      "text/plain": [
       "date_time         0\n",
       "temp              0\n",
       "humidity          0\n",
       "light             0\n",
       "co2               0\n",
       "humidity_ratio    0\n",
       "dtype: int64"
      ]
     },
     "execution_count": 23,
     "metadata": {},
     "output_type": "execute_result"
    }
   ],
   "source": [
    "test_data.isnull().sum()"
   ]
  },
  {
   "cell_type": "code",
   "execution_count": 24,
   "id": "4954df62",
   "metadata": {},
   "outputs": [],
   "source": [
    "final_test = test_data.drop(['date_time'], axis = 1)"
   ]
  },
  {
   "cell_type": "code",
   "execution_count": 25,
   "id": "303d6d8e",
   "metadata": {},
   "outputs": [],
   "source": [
    "predict = model.predict(final_test)"
   ]
  },
  {
   "cell_type": "code",
   "execution_count": 26,
   "id": "3390c638",
   "metadata": {},
   "outputs": [
    {
     "data": {
      "text/plain": [
       "array([0, 0, 0, 0, 0], dtype=int64)"
      ]
     },
     "execution_count": 26,
     "metadata": {},
     "output_type": "execute_result"
    }
   ],
   "source": [
    "predict[20:25]"
   ]
  },
  {
   "cell_type": "code",
   "execution_count": 27,
   "id": "9dda5d50",
   "metadata": {},
   "outputs": [],
   "source": [
    "pd.DataFrame(predict).to_csv(\"D:/IGT/data/Siemenassignment/submission.csv\")\n"
   ]
  },
  {
   "cell_type": "code",
   "execution_count": null,
   "id": "ff3b047c",
   "metadata": {},
   "outputs": [],
   "source": []
  }
 ],
 "metadata": {
  "kernelspec": {
   "display_name": "Python 3 (ipykernel)",
   "language": "python",
   "name": "python3"
  },
  "language_info": {
   "codemirror_mode": {
    "name": "ipython",
    "version": 3
   },
   "file_extension": ".py",
   "mimetype": "text/x-python",
   "name": "python",
   "nbconvert_exporter": "python",
   "pygments_lexer": "ipython3",
   "version": "3.9.7"
  }
 },
 "nbformat": 4,
 "nbformat_minor": 5
}
