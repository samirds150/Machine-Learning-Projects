{
 "cells": [
  {
   "cell_type": "code",
   "execution_count": null,
   "id": "1961fcda",
   "metadata": {},
   "outputs": [],
   "source": [
    "import pandas as pd\n",
    "import numpy as np\n",
    "import difflib\n",
    "from sklearn.feature_extraction.text import TfidfVectorizer\n",
    "from sklearn.metrics.pairwise import cosine_similarity\n"
   ]
  },
  {
   "cell_type": "code",
   "execution_count": null,
   "id": "ba22953e",
   "metadata": {},
   "outputs": [],
   "source": [
    "df = pd.read_csv(\"D:\\IGT\\data\\movies.csv\")"
   ]
  },
  {
   "cell_type": "code",
   "execution_count": null,
   "id": "108c3d85",
   "metadata": {},
   "outputs": [],
   "source": [
    "df.head()"
   ]
  },
  {
   "cell_type": "code",
   "execution_count": null,
   "id": "33dd3503",
   "metadata": {},
   "outputs": [],
   "source": [
    "df.shape"
   ]
  },
  {
   "cell_type": "code",
   "execution_count": null,
   "id": "0f1d6ce2",
   "metadata": {},
   "outputs": [],
   "source": [
    "selected_features = ['genres','keywords','tagline','cast','director']"
   ]
  },
  {
   "cell_type": "code",
   "execution_count": null,
   "id": "8c9aec1b",
   "metadata": {},
   "outputs": [],
   "source": [
    "for feature in selected_features:\n",
    "    df[feature] = df[feature].fillna('')"
   ]
  },
  {
   "cell_type": "code",
   "execution_count": null,
   "id": "ceb4e139",
   "metadata": {},
   "outputs": [],
   "source": [
    "combined_features = df['genres']+' '+df['keywords']+' '+df['tagline']+' '+df['cast']+' '+df['director']"
   ]
  },
  {
   "cell_type": "code",
   "execution_count": null,
   "id": "2377cb6b",
   "metadata": {},
   "outputs": [],
   "source": [
    "print(combined_features[0])"
   ]
  },
  {
   "cell_type": "code",
   "execution_count": null,
   "id": "f7f7d918",
   "metadata": {},
   "outputs": [],
   "source": [
    "#converting text value to feature vector\n"
   ]
  },
  {
   "cell_type": "code",
   "execution_count": null,
   "id": "fe6fe020",
   "metadata": {},
   "outputs": [],
   "source": [
    "vectorizer = TfidfVectorizer()"
   ]
  },
  {
   "cell_type": "code",
   "execution_count": null,
   "id": "27653cdd",
   "metadata": {},
   "outputs": [],
   "source": [
    "feature_vector = vectorizer.fit_transform(combined_features)"
   ]
  },
  {
   "cell_type": "code",
   "execution_count": null,
   "id": "a362a3dd",
   "metadata": {},
   "outputs": [],
   "source": [
    "print(feature_vector[0])"
   ]
  },
  {
   "cell_type": "code",
   "execution_count": null,
   "id": "13bb6f2a",
   "metadata": {},
   "outputs": [],
   "source": [
    "#getting similarity scores using cosine similarity"
   ]
  },
  {
   "cell_type": "code",
   "execution_count": null,
   "id": "beaf8dc2",
   "metadata": {},
   "outputs": [],
   "source": [
    "similarity = cosine_similarity(feature_vector)"
   ]
  },
  {
   "cell_type": "code",
   "execution_count": null,
   "id": "f04ed735",
   "metadata": {},
   "outputs": [],
   "source": [
    "print(similarity)"
   ]
  },
  {
   "cell_type": "code",
   "execution_count": null,
   "id": "f2db1c7e",
   "metadata": {},
   "outputs": [],
   "source": [
    "similarity.shape"
   ]
  },
  {
   "cell_type": "code",
   "execution_count": null,
   "id": "36dd4832",
   "metadata": {},
   "outputs": [],
   "source": [
    "movie_name  = input(\"Enter Movie Name: \")"
   ]
  },
  {
   "cell_type": "code",
   "execution_count": null,
   "id": "e9083ab2",
   "metadata": {},
   "outputs": [],
   "source": [
    "#creating list of all the movies"
   ]
  },
  {
   "cell_type": "code",
   "execution_count": null,
   "id": "8ac42bda",
   "metadata": {},
   "outputs": [],
   "source": [
    "list_of_movies = df['title'].tolist()"
   ]
  },
  {
   "cell_type": "code",
   "execution_count": null,
   "id": "61d2d6aa",
   "metadata": {},
   "outputs": [],
   "source": [
    "list_of_movies"
   ]
  },
  {
   "cell_type": "code",
   "execution_count": null,
   "id": "ce047311",
   "metadata": {},
   "outputs": [],
   "source": [
    " find_close_match = difflib.get_close_matches(movie_name,list_of_movies)"
   ]
  },
  {
   "cell_type": "code",
   "execution_count": null,
   "id": "1183a3eb",
   "metadata": {},
   "outputs": [],
   "source": [
    "find_close_match"
   ]
  },
  {
   "cell_type": "code",
   "execution_count": null,
   "id": "91d36548",
   "metadata": {},
   "outputs": [],
   "source": [
    "close_match = find_close_match[0]\n",
    "close_match"
   ]
  },
  {
   "cell_type": "code",
   "execution_count": null,
   "id": "b0e689bc",
   "metadata": {},
   "outputs": [],
   "source": [
    " #finding index of the movie with title"
   ]
  },
  {
   "cell_type": "code",
   "execution_count": null,
   "id": "9d629d88",
   "metadata": {},
   "outputs": [],
   "source": [
    "index_of_the_movie = df[df.title == close_match]['index'].values[0]"
   ]
  },
  {
   "cell_type": "code",
   "execution_count": null,
   "id": "2be14532",
   "metadata": {},
   "outputs": [],
   "source": [
    "print(index_of_the_movie)"
   ]
  },
  {
   "cell_type": "code",
   "execution_count": null,
   "id": "c2ed4944",
   "metadata": {},
   "outputs": [],
   "source": [
    "#getting a list of similar movies"
   ]
  },
  {
   "cell_type": "code",
   "execution_count": null,
   "id": "68e30316",
   "metadata": {},
   "outputs": [],
   "source": [
    "similarity_score = list(enumerate(similarity[index_of_the_movie]))"
   ]
  },
  {
   "cell_type": "code",
   "execution_count": null,
   "id": "431f06e7",
   "metadata": {},
   "outputs": [],
   "source": [
    "similarity_score"
   ]
  },
  {
   "cell_type": "code",
   "execution_count": null,
   "id": "874c8081",
   "metadata": {},
   "outputs": [],
   "source": [
    "sorted_similar_movies = sorted(similarity_score,key = lambda x:x[1],reverse = True)\n",
    "sorted_similar_movies"
   ]
  },
  {
   "cell_type": "code",
   "execution_count": null,
   "id": "e73f55c9",
   "metadata": {},
   "outputs": [],
   "source": [
    "print(\"Movies suggested for you : \\n\")\n",
    "i = 1\n",
    "for movie in sorted_similar_movies:\n",
    "    index = movie[0]\n",
    "    title_from_index = df[df.index==index]['title'].values[0]\n",
    "    if(i<30):\n",
    "        print(i,' ',title_from_index)\n",
    "        i+=1"
   ]
  },
  {
   "cell_type": "code",
   "execution_count": null,
   "id": "74d802f0",
   "metadata": {},
   "outputs": [],
   "source": []
  }
 ],
 "metadata": {
  "kernelspec": {
   "display_name": "Python 3 (ipykernel)",
   "language": "python",
   "name": "python3"
  },
  "language_info": {
   "codemirror_mode": {
    "name": "ipython",
    "version": 3
   },
   "file_extension": ".py",
   "mimetype": "text/x-python",
   "name": "python",
   "nbconvert_exporter": "python",
   "pygments_lexer": "ipython3",
   "version": "3.9.7"
  }
 },
 "nbformat": 4,
 "nbformat_minor": 5
}
